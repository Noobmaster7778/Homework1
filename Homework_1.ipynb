{
 "cells": [
  {
   "cell_type": "markdown",
   "metadata": {},
   "source": [
    "# [In Class] Homework #1\n",
    "This problem set deals with matrial from the first four lectures.  \n",
    "You may reference any materials, but make sure if you directly copy code, that you provide a link to the source in the mark up.\n",
    "Likewise, if you find a really helpful website, you should add that link as well.\n",
    "\n",
    "Work from this notebook and submit a copy of this notebook via canvas.  Include any additional scripts or files needed to reproduce"
   ]
  },
  {
   "cell_type": "markdown",
   "metadata": {},
   "source": [
    "## Problem 1.  \n",
    "* Load the Pitt_Cathedral.jpg file from the Data folder as a color image\n",
    "* Convert the image colors to display using the imshow() command \n",
    "* then Convert the image to Grayscale and display again"
   ]
  },
  {
   "cell_type": "markdown",
   "metadata": {},
   "source": [
    "## Problem 2.\n",
    "* Annotate the Cathedral image from problem 1 with the slogan \"Hail to Pitt\" placed in the image\n",
    "* In a different font and color, add your name in text to the same image\n",
    "* Crop the image around the Cathedral and display "
   ]
  },
  {
   "cell_type": "markdown",
   "metadata": {},
   "source": [
    "## Problem 3.\n",
    "* Create a binary mask seperating the blue sky by thresholding\n",
    "* Using this mask, change (just the) sky to be a deeper blue "
   ]
  },
  {
   "cell_type": "markdown",
   "metadata": {},
   "source": [
    "## Problem 4.\n",
    "[ECE 1390]\n",
    "* Write a function to preform a median filter operation using a moving 3 x 3 kernel.  The median filter should compute the median value from the 9 pixels in the kernel and replace the value at the center.    \n",
    "\n",
    "[ECE 2390]\n",
    "* Write a function to preform a median filter operation using an arbitrary kernel (taken as a second argument).  The median filter should compute the median value from the pixels in the kernel and replace the value at the kernel anchor (center).    \n",
    "\n"
   ]
  },
  {
   "cell_type": "markdown",
   "metadata": {},
   "source": [
    "## Problem 5 [ECE 2690 students]\n",
    "* Using the Haar wavelet, compress the color image by 25% removing only the high/high-pass component "
   ]
  }
 ],
 "metadata": {
  "kernelspec": {
   "display_name": "Python 3",
   "language": "python",
   "name": "python3"
  },
  "language_info": {
   "codemirror_mode": {
    "name": "ipython",
    "version": 3
   },
   "file_extension": ".py",
   "mimetype": "text/x-python",
   "name": "python",
   "nbconvert_exporter": "python",
   "pygments_lexer": "ipython3",
   "version": "3.11.7"
  }
 },
 "nbformat": 4,
 "nbformat_minor": 2
}
